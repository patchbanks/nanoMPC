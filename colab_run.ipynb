{
  "cells": [
    {
      "cell_type": "markdown",
      "metadata": {
        "id": "_mGGie8jPsmI"
      },
      "source": [
        "## Install"
      ]
    },
    {
      "cell_type": "code",
      "execution_count": null,
      "metadata": {
        "id": "6-78-Ky5NzJa"
      },
      "outputs": [],
      "source": [
        "!git clone https://github.com/patchbanks/nanoMPC.git\n",
        "%cd /content/nanoMPC"
      ]
    },
    {
      "cell_type": "code",
      "execution_count": null,
      "metadata": {
        "id": "NIW_CgRgOJzh"
      },
      "outputs": [],
      "source": [
        "!pip install tiktoken pretty_midi\n",
        "!apt-get install fluidsynth=2.2.5-1\n",
        "!pip install gradio\n",
        "!pip install pedalboard"
      ]
    },
    {
      "cell_type": "code",
      "source": [
        "import os\n",
        "os.makedirs('/content/nanoMPC/sf2_kits', exist_ok=True)"
      ],
      "metadata": {
        "id": "lIjJoC1Mv6V8"
      },
      "execution_count": null,
      "outputs": []
    },
    {
      "cell_type": "code",
      "source": [
        "!nvidia-smi 2>/dev/null || echo \"No GPU available\"  # check GPU"
      ],
      "metadata": {
        "id": "Mh3VLpPF9uHG"
      },
      "execution_count": null,
      "outputs": []
    },
    {
      "cell_type": "markdown",
      "metadata": {
        "id": "p-Ym81WNPxjV"
      },
      "source": [
        "## nanoMPC"
      ]
    },
    {
      "cell_type": "code",
      "execution_count": null,
      "metadata": {
        "id": "bzoeihG3Y1sx"
      },
      "outputs": [],
      "source": [
        "!python generate.py \\\n",
        "--num_samples 1 \\\n",
        "--bpm 90"
      ]
    },
    {
      "cell_type": "code",
      "execution_count": null,
      "metadata": {
        "cellView": "form",
        "id": "2pABHJ7sT2oO"
      },
      "outputs": [],
      "source": [
        "#@title Zip MIDI\n",
        "import zipfile\n",
        "import os\n",
        "\n",
        "base_name = input(\"Enter zip file name: \")\n",
        "zip_file_path = f'/content/{base_name}.zip'\n",
        "\n",
        "if os.path.exists(zip_file_path):\n",
        "    count = 1\n",
        "    while os.path.exists(zip_file_path):\n",
        "        zip_file_path = f'/content/{base_name}-{count}.zip'\n",
        "        count += 1\n",
        "\n",
        "midi_output_dir = '/content/nanoMPC/midi_output'\n",
        "\n",
        "with zipfile.ZipFile(zip_file_path, 'w') as zipf:\n",
        "    for root, _, files in os.walk(midi_output_dir):\n",
        "        for file in files:\n",
        "            file_path = os.path.join(root, file)\n",
        "            arcname = os.path.join(base_name, file)  # Set the name in the archive\n",
        "            zipf.write(file_path, arcname)\n",
        "\n",
        "print('Saved to zip:', zip_file_path)\n"
      ]
    },
    {
      "cell_type": "markdown",
      "metadata": {
        "id": "YIb-FHWRXzzv"
      },
      "source": [
        "User Guide\n",
        "- Enter the bpm and number of MIDI files to generate\n",
        "- Model is trained on General MIDI Drum Map (GM1)\n",
        "- 100 runs will take approximately 10 minutes on GPU\n",
        "- Midi output directory will be deleted with every new run\n"
      ]
    },
    {
      "cell_type": "markdown",
      "source": [
        "## Gradio"
      ],
      "metadata": {
        "id": "-n9pn8EenGZB"
      }
    },
    {
      "cell_type": "markdown",
      "source": [
        "User Guide\n",
        "- Run to launch Gradio in the browser\n",
        "- Upload SF2 file to generate audio (required)\n",
        "- Custom SF2 drum kits must use preset=0, bank=0"
      ],
      "metadata": {
        "id": "87u7p8I75P9H"
      }
    },
    {
      "cell_type": "code",
      "source": [
        "!python app.py"
      ],
      "metadata": {
        "id": "h3spURs-nJYI"
      },
      "execution_count": null,
      "outputs": []
    }
  ],
  "metadata": {
    "colab": {
      "collapsed_sections": [
        "_mGGie8jPsmI",
        "p-Ym81WNPxjV",
        "-n9pn8EenGZB"
      ],
      "provenance": []
    },
    "kernelspec": {
      "display_name": "Python 3",
      "name": "python3"
    },
    "language_info": {
      "name": "python"
    }
  },
  "nbformat": 4,
  "nbformat_minor": 0
}