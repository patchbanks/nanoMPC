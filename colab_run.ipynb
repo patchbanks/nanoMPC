{
  "cells": [
    {
      "cell_type": "markdown",
      "metadata": {
        "id": "_mGGie8jPsmI"
      },
      "source": [
        "## Install"
      ]
    },
    {
      "cell_type": "code",
      "execution_count": null,
      "metadata": {
        "id": "6-78-Ky5NzJa"
      },
      "outputs": [],
      "source": [
        "!git clone https://github.com/patchbanks/nanoMPC.git\n",
        "%cd /content/nanoMPC"
      ]
    },
    {
      "cell_type": "code",
      "execution_count": null,
      "metadata": {
        "id": "NIW_CgRgOJzh"
      },
      "outputs": [],
      "source": [
        "!pip install tiktoken pretty_midi\n",
        "!apt-get install fluidsynth=2.2.5-1\n",
        "!pip install gradio\n",
        "!pip install pedalboard"
      ]
    },
    {
      "cell_type": "code",
      "source": [
        "!nvidia-smi"
      ],
      "metadata": {
        "id": "Mh3VLpPF9uHG"
      },
      "execution_count": null,
      "outputs": []
    },
    {
      "cell_type": "markdown",
      "metadata": {
        "id": "p-Ym81WNPxjV"
      },
      "source": [
        "## nanoMPC"
      ]
    },
    {
      "cell_type": "code",
      "execution_count": null,
      "metadata": {
        "id": "bzoeihG3Y1sx"
      },
      "outputs": [],
      "source": [
        "%%time\n",
        "!python generate.py \\\n",
        "--num_samples 10 \\\n",
        "--bpm 90"
      ]
    },
    {
      "cell_type": "code",
      "execution_count": null,
      "metadata": {
        "cellView": "form",
        "id": "2pABHJ7sT2oO"
      },
      "outputs": [],
      "source": [
        "#@title Zip MIDI\n",
        "import zipfile\n",
        "import os\n",
        "\n",
        "base_name = input(\"Enter zip file name: \")\n",
        "zip_file_path = f'/content/{base_name}.zip'\n",
        "\n",
        "if os.path.exists(zip_file_path):\n",
        "    count = 1\n",
        "    while os.path.exists(zip_file_path):\n",
        "        zip_file_path = f'/content/{base_name}-{count}.zip'\n",
        "        count += 1\n",
        "\n",
        "midi_output_dir = '/content/nanoMPC/midi_output'\n",
        "\n",
        "with zipfile.ZipFile(zip_file_path, 'w') as zipf:\n",
        "    for root, _, files in os.walk(midi_output_dir):\n",
        "        for file in files:\n",
        "            file_path = os.path.join(root, file)\n",
        "            arcname = os.path.join(base_name, file)  # Set the name in the archive\n",
        "            zipf.write(file_path, arcname)\n",
        "\n",
        "print('Saved to zip:', zip_file_path)\n"
      ]
    },
    {
      "cell_type": "markdown",
      "metadata": {
        "id": "YIb-FHWRXzzv"
      },
      "source": [
        "User Guide\n",
        "- Enter the bpm and number of runs to generate\n",
        "- Model is trained on General MIDI Drum Map (GM1)\n",
        "- 100 samples may take several minutes on GPU.\n",
        "- Midi output directory will be deleted with every new run\n"
      ]
    },
    {
      "cell_type": "markdown",
      "source": [
        "## Gradio"
      ],
      "metadata": {
        "id": "-n9pn8EenGZB"
      }
    },
    {
      "cell_type": "markdown",
      "source": [
        "User Guide\n",
        "- Run to launch Gradio in the browser\n",
        "- Optional: Upload SF2 file to generate with a single drum kit.\n",
        "- Custom SF2 drum kits must use preset=0, bank=0"
      ],
      "metadata": {
        "id": "87u7p8I75P9H"
      }
    },
    {
      "cell_type": "code",
      "source": [
        "!python app.py"
      ],
      "metadata": {
        "id": "h3spURs-nJYI"
      },
      "execution_count": null,
      "outputs": []
    },
    {
      "cell_type": "markdown",
      "source": [
        "## Swap Model"
      ],
      "metadata": {
        "id": "wizbZifzan__"
      }
    },
    {
      "cell_type": "markdown",
      "source": [
        "- Select a model and run the cell to replace the current model.\n",
        "- Reload the browser if a Gradio error occurs."
      ],
      "metadata": {
        "id": "9CR9t_ESbH1g"
      }
    },
    {
      "cell_type": "code",
      "source": [
        "import shutil\n",
        "import os\n",
        "\n",
        "model_name = \"drumwave\" # @param ['hip_hop', 'drumwave']\n",
        "model_path = os.path.join('checkpoints', 'model.pt')\n",
        "new_model_path = os.path.join('data', model_name, 'model.pt')\n",
        "\n",
        "if os.path.exists(model_path):\n",
        "    os.remove(model_path)\n",
        "\n",
        "shutil.copy(new_model_path, model_path)\n",
        "print(f\"Model updated.\")\n"
      ],
      "metadata": {
        "cellView": "form",
        "id": "89qcWZq5cBQC"
      },
      "execution_count": null,
      "outputs": []
    }
  ],
  "metadata": {
    "accelerator": "GPU",
    "colab": {
      "collapsed_sections": [
        "_mGGie8jPsmI",
        "p-Ym81WNPxjV",
        "-n9pn8EenGZB",
        "wizbZifzan__"
      ],
      "gpuType": "T4",
      "provenance": []
    },
    "kernelspec": {
      "display_name": "Python 3",
      "name": "python3"
    },
    "language_info": {
      "name": "python"
    }
  },
  "nbformat": 4,
  "nbformat_minor": 0
}